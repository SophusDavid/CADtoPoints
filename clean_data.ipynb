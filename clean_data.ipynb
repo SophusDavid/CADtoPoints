{
 "cells": [
  {
   "cell_type": "code",
   "execution_count": null,
   "metadata": {},
   "outputs": [],
   "source": []
  },
  {
   "cell_type": "markdown",
   "metadata": {},
   "source": [
    "# 数据清洗\n",
    "发现mesh有的是空的，清洗一下"
   ]
  },
  {
   "cell_type": "code",
   "execution_count": null,
   "metadata": {},
   "outputs": [],
   "source": []
  },
  {
   "cell_type": "code",
   "execution_count": 1,
   "metadata": {},
   "outputs": [],
   "source": [
    "import json \n",
    "with open('/home/edre/dtw_files/DeepCAD/data/cad_data/train_val_test_split.json','r') as f :\n",
    "    data=json.load(f)"
   ]
  },
  {
   "cell_type": "code",
   "execution_count": 2,
   "metadata": {},
   "outputs": [
    {
     "name": "stdout",
     "output_type": "stream",
     "text": [
      "Failed to load mesh at data/cad_data/pc_cad/0086/00866760.ply: string is not a file: data/cad_data/pc_cad/0086/00866760.ply\n",
      "Failed to load mesh at data/cad_data/pc_cad/0022/00222961.ply: string is not a file: data/cad_data/pc_cad/0022/00222961.ply\n",
      "Failed to load mesh at data/cad_data/pc_cad/0083/00837927.ply: string is not a file: data/cad_data/pc_cad/0083/00837927.ply\n",
      "Failed to load mesh at data/cad_data/pc_cad/0070/00704820.ply: string is not a file: data/cad_data/pc_cad/0070/00704820.ply\n",
      "Failed to load mesh at data/cad_data/pc_cad/0087/00870042.ply: string is not a file: data/cad_data/pc_cad/0087/00870042.ply\n",
      "Failed to load mesh at data/cad_data/pc_cad/0070/00703301.ply: string is not a file: data/cad_data/pc_cad/0070/00703301.ply\n",
      "Failed to load mesh at data/cad_data/pc_cad/0081/00817507.ply: string is not a file: data/cad_data/pc_cad/0081/00817507.ply\n",
      "Failed to load mesh at data/cad_data/pc_cad/0033/00333559.ply: string is not a file: data/cad_data/pc_cad/0033/00333559.ply\n",
      "Failed to load mesh at data/cad_data/pc_cad/0058/00581385.ply: string is not a file: data/cad_data/pc_cad/0058/00581385.ply\n",
      "Failed to load mesh at data/cad_data/pc_cad/0082/00827723.ply: string is not a file: data/cad_data/pc_cad/0082/00827723.ply\n",
      "Failed to load mesh at data/cad_data/pc_cad/0037/00377294.ply: string is not a file: data/cad_data/pc_cad/0037/00377294.ply\n",
      "Failed to load mesh at data/cad_data/pc_cad/0029/00299584.ply: string is not a file: data/cad_data/pc_cad/0029/00299584.ply\n",
      "Failed to load mesh at data/cad_data/pc_cad/0078/00787215.ply: string is not a file: data/cad_data/pc_cad/0078/00787215.ply\n",
      "Failed to load mesh at data/cad_data/pc_cad/0078/00780606.ply: string is not a file: data/cad_data/pc_cad/0078/00780606.ply\n",
      "Failed to load mesh at data/cad_data/pc_cad/0022/00229900.ply: string is not a file: data/cad_data/pc_cad/0022/00229900.ply\n",
      "Failed to load mesh at data/cad_data/pc_cad/0076/00763366.ply: string is not a file: data/cad_data/pc_cad/0076/00763366.ply\n",
      "Failed to load mesh at data/cad_data/pc_cad/0071/00710683.ply: string is not a file: data/cad_data/pc_cad/0071/00710683.ply\n",
      "Failed to load mesh at data/cad_data/pc_cad/0061/00619072.ply: string is not a file: data/cad_data/pc_cad/0061/00619072.ply\n",
      "Failed to load mesh at data/cad_data/pc_cad/0072/00726035.ply: string is not a file: data/cad_data/pc_cad/0072/00726035.ply\n",
      "Failed to load mesh at data/cad_data/pc_cad/0045/00453232.ply: string is not a file: data/cad_data/pc_cad/0045/00453232.ply\n",
      "Failed to load mesh at data/cad_data/pc_cad/0068/00682204.ply: string is not a file: data/cad_data/pc_cad/0068/00682204.ply\n",
      "Failed to load mesh at data/cad_data/pc_cad/0057/00576824.ply: string is not a file: data/cad_data/pc_cad/0057/00576824.ply\n",
      "Failed to load mesh at data/cad_data/pc_cad/0040/00407728.ply: string is not a file: data/cad_data/pc_cad/0040/00407728.ply\n",
      "Failed to load mesh at data/cad_data/pc_cad/0056/00568170.ply: string is not a file: data/cad_data/pc_cad/0056/00568170.ply\n",
      "Failed to load mesh at data/cad_data/pc_cad/0019/00197175.ply: string is not a file: data/cad_data/pc_cad/0019/00197175.ply\n",
      "Failed to load mesh at data/cad_data/pc_cad/0095/00957222.ply: string is not a file: data/cad_data/pc_cad/0095/00957222.ply\n"
     ]
    }
   ],
   "source": [
    "import os\n",
    "import trimesh\n",
    "import json\n",
    "\n",
    "train_num = 800\n",
    "test_num = 100\n",
    "\n",
    "# 创建目标目录的基本结构\n",
    "os.makedirs('data/full_data/cad_vec', exist_ok=True)\n",
    "os.makedirs('data/full_data/cad_pcd', exist_ok=True)\n",
    "\n",
    "def load_and_validate_mesh(path):\n",
    "    try:\n",
    "        mesh = trimesh.load(path, force='mesh')\n",
    "        if mesh.is_empty:\n",
    "            print(f\"Warning: The mesh at {path} is empty.\")\n",
    "            return False\n",
    "        return True\n",
    "    except Exception as e:\n",
    "        print(f\"Failed to load mesh at {path}: {str(e)}\")\n",
    "        return False\n",
    "\n",
    "def create_symlinks_and_collect_paths(file_paths, target_folder, num_samples):\n",
    "    paths_collected = []\n",
    "    count = 0\n",
    "    for path in file_paths:\n",
    "        h5_data = os.path.join('data/cad_data/cad_vec', path + '.h5')\n",
    "        mesh_data = os.path.join('data/cad_data/pc_cad', path + '.ply')\n",
    "        \n",
    "        if load_and_validate_mesh(mesh_data) and os.path.exists(h5_data) and os.path.exists(mesh_data):\n",
    "            # 创建目标路径，保留原始的目录结构\n",
    "            target_h5_path = os.path.join('data/full_data/cad_vec', path+'.h5')\n",
    "            target_mesh_path = os.path.join('data/full_data/pc_cad',path+'.ply' )\n",
    "\n",
    "            # 创建必要的目录\n",
    "            os.makedirs(os.path.dirname(target_h5_path), exist_ok=True)\n",
    "            os.makedirs(os.path.dirname(target_mesh_path), exist_ok=True)\n",
    "\n",
    "            # 创建符号链接，先检查是否已存在\n",
    "            if os.path.exists(target_h5_path):\n",
    "                os.remove(target_h5_path)\n",
    "            if os.path.exists(target_mesh_path):\n",
    "                os.remove(target_mesh_path)\n",
    "\n",
    "            os.symlink(os.path.abspath(h5_data), target_h5_path)\n",
    "            os.symlink(os.path.abspath(mesh_data), target_mesh_path)\n",
    "            \n",
    "            paths_collected.append(path)\n",
    "            \n",
    "            count += 1\n",
    "            # if count == num_samples:\n",
    "            #     break\n",
    "    return paths_collected\n",
    "\n",
    "# 收集路径\n",
    "train_paths = create_symlinks_and_collect_paths(data['train'], 'train', train_num)\n",
    "test_paths = create_symlinks_and_collect_paths(data['test'], 'test', test_num)\n",
    "val_paths = create_symlinks_and_collect_paths(data['validation'], 'test', test_num)\n",
    "\n",
    "# 写入JSON文件\n",
    "split_data = {\n",
    "    'train': train_paths,\n",
    "    'test': test_paths,\n",
    "    'validation':val_paths\n",
    "}\n",
    "\n",
    "with open('data/full_data/train_test_split.json', 'w') as json_file:\n",
    "    json.dump(split_data, json_file, indent=4)\n"
   ]
  },
  {
   "cell_type": "markdown",
   "metadata": {},
   "source": [
    "# 提前处理好点云"
   ]
  },
  {
   "cell_type": "code",
   "execution_count": null,
   "metadata": {},
   "outputs": [],
   "source": []
  }
 ],
 "metadata": {
  "kernelspec": {
   "display_name": "dcad",
   "language": "python",
   "name": "python3"
  },
  "language_info": {
   "codemirror_mode": {
    "name": "ipython",
    "version": 3
   },
   "file_extension": ".py",
   "mimetype": "text/x-python",
   "name": "python",
   "nbconvert_exporter": "python",
   "pygments_lexer": "ipython3",
   "version": "3.8.0"
  }
 },
 "nbformat": 4,
 "nbformat_minor": 2
}
